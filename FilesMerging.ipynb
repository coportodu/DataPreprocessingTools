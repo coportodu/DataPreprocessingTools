{
  "nbformat": 4,
  "nbformat_minor": 0,
  "metadata": {
    "colab": {
      "name": "FilesMerging.ipynb",
      "provenance": []
    },
    "kernelspec": {
      "name": "python3",
      "display_name": "Python 3"
    },
    "language_info": {
      "name": "python"
    }
  },
  "cells": [
    {
      "cell_type": "code",
      "source": [
        "import pandas as pd \n",
        "import glob, os"
      ],
      "metadata": {
        "id": "EwgMaYxDBfpL"
      },
      "execution_count": null,
      "outputs": []
    },
    {
      "cell_type": "code",
      "source": [
        "from google.colab import drive\n",
        "drive.mount('/content/drive')"
      ],
      "metadata": {
        "colab": {
          "base_uri": "https://localhost:8080/"
        },
        "id": "AaOtMw6CBQBx",
        "outputId": "72e5d152-2b34-42b9-c48f-d6ff73927fb7"
      },
      "execution_count": null,
      "outputs": [
        {
          "output_type": "stream",
          "name": "stdout",
          "text": [
            "Mounted at /content/drive\n"
          ]
        }
      ]
    },
    {
      "cell_type": "markdown",
      "source": [
        "#Desnutrición"
      ],
      "metadata": {
        "id": "Y0AmuHdiGWh1"
      }
    },
    {
      "cell_type": "code",
      "source": [
        "path = '/content/drive/MyDrive/Colab Notebooks/Tesis/data/PT/'\n",
        "os.chdir(path)"
      ],
      "metadata": {
        "id": "QEc7sb7u6re7"
      },
      "execution_count": null,
      "outputs": []
    },
    {
      "cell_type": "code",
      "source": [
        "extension = 'csv'\n",
        "all_filenames = [i for i in glob.glob('*.{}'.format(extension))]"
      ],
      "metadata": {
        "id": "M26i7TDJBdWg"
      },
      "execution_count": null,
      "outputs": []
    },
    {
      "cell_type": "code",
      "source": [
        "#combine all files in the list\n",
        "#combined_csv = pd.concat([pd.read_csv(f) for f in all_filenames])\n",
        "#export to csv\n",
        "#combined_csv.to_csv( \"combined_csv.csv\", index=False, encoding='utf-8-sig')"
      ],
      "metadata": {
        "id": "yAGgXbMfBiFt"
      },
      "execution_count": null,
      "outputs": []
    },
    {
      "cell_type": "code",
      "source": [
        "i=1\n",
        "combined_csv=[]\n",
        "for f in all_filenames:\n",
        "  r=''\n",
        "  df = pd.DataFrame()\n",
        "  try:\n",
        "    df = pd.read_csv(f)\n",
        "    r='ok'\n",
        "  except ValueError:\n",
        "    r='error'\n",
        "  print(i,'.-',f,'-------',r)\n",
        "  i+=1\n",
        "  if len(df) > 0:\n",
        "    combined_csv.append(df)"
      ],
      "metadata": {
        "colab": {
          "base_uri": "https://localhost:8080/"
        },
        "id": "c20yZktzCTjQ",
        "outputId": "5cc824e4-639a-4ea4-fa8a-79c3eb1daa77"
      },
      "execution_count": null,
      "outputs": [
        {
          "output_type": "stream",
          "name": "stdout",
          "text": [
            "1 .- Niños JUNIN.csv ------- ok\n",
            "2 .- Niños APURIMAC.csv ------- ok\n",
            "3 .- Niños CUSCO.csv ------- ok\n",
            "4 .- Niños AREQUIPA.csv ------- ok\n",
            "5 .- Niños LIMA DIRIS NORTE.csv ------- ok\n",
            "6 .- Niños LORETO.csv ------- ok\n",
            "7 .- Niños AYACUCHO.csv ------- ok\n",
            "8 .- Niños LIMA DIRIS SUR.csv ------- ok\n",
            "9 .- Niños HUANCAVELICA.csv ------- ok\n",
            "10 .- Niños ANCASH.csv ------- ok\n",
            "11 .- Niños AMAZONAS.csv ------- ok\n",
            "12 .- Niños LAMBAYEQUE.csv ------- ok\n",
            "13 .- Niños LIMA DIRIS CENTRO_PT.csv ------- ok\n",
            "14 .- Niños HUANUCO.csv ------- error\n",
            "15 .- Niños LA LIBERTAD.csv ------- ok\n",
            "16 .- Niños ICA.csv ------- ok\n",
            "17 .- Niños LIMA DIRIS ESTE.csv ------- ok\n",
            "18 .- Niños LIMA.csv ------- ok\n",
            "19 .- Niños CAJAMARCA.csv ------- ok\n",
            "20 .- Niños CALLAO.csv ------- ok\n",
            "21 .- Niños SAN MARTIN.csv ------- ok\n",
            "22 .- Niños UCAYALI.csv ------- ok\n",
            "23 .- Niños PASCO.csv ------- ok\n",
            "24 .- Niños TACNA.csv ------- ok\n",
            "25 .- Niños MADRE DE DIOS.csv ------- ok\n",
            "26 .- Niños MOQUEGUA.csv ------- ok\n",
            "27 .- Niños TUMBES.csv ------- ok\n",
            "28 .- Niños PIURA.csv ------- ok\n",
            "29 .- Niños PUNO.csv ------- ok\n"
          ]
        }
      ]
    },
    {
      "cell_type": "code",
      "source": [
        "combined_csv = pd.concat([f for f in combined_csv])"
      ],
      "metadata": {
        "id": "506H5T0hFQZd"
      },
      "execution_count": null,
      "outputs": []
    },
    {
      "cell_type": "code",
      "source": [
        "#export to csv\n",
        "combined_csv.to_csv( \"combined_PT.csv\", index=False, encoding='utf-8-sig')"
      ],
      "metadata": {
        "id": "GXjVPPtbD8pj"
      },
      "execution_count": null,
      "outputs": []
    },
    {
      "cell_type": "markdown",
      "source": [
        "#Anemia"
      ],
      "metadata": {
        "id": "cESivoT6Gkjl"
      }
    },
    {
      "cell_type": "code",
      "source": [
        "path = '/content/drive/MyDrive/Colab Notebooks/Tesis/data/HB/'\n",
        "os.chdir(path)"
      ],
      "metadata": {
        "id": "Puc8rcJhGob3"
      },
      "execution_count": null,
      "outputs": []
    },
    {
      "cell_type": "code",
      "source": [
        "extension = 'csv'\n",
        "all_filenames = [i for i in glob.glob('*.{}'.format(extension))]"
      ],
      "metadata": {
        "id": "zbdLsZ75Gob3"
      },
      "execution_count": null,
      "outputs": []
    },
    {
      "cell_type": "code",
      "source": [
        "i=1\n",
        "combined_csv=[]\n",
        "for f in all_filenames:\n",
        "  r=''\n",
        "  df = pd.DataFrame()\n",
        "  try:\n",
        "    df = pd.read_csv(f)\n",
        "    r='ok'\n",
        "  except ValueError:\n",
        "    r='error'\n",
        "  print(i,'.-',f,'-------',r)\n",
        "  i+=1\n",
        "  if len(df) > 0:\n",
        "    combined_csv.append(df)"
      ],
      "metadata": {
        "colab": {
          "base_uri": "https://localhost:8080/"
        },
        "outputId": "577557a9-ec9c-44ff-cdf5-cd434e7ced85",
        "id": "yNQlvuKnGob4"
      },
      "execution_count": null,
      "outputs": [
        {
          "output_type": "stream",
          "name": "stdout",
          "text": [
            "1 .- Niños AYACUCHO.csv ------- ok\n",
            "2 .- Niños AREQUIPA.csv ------- ok\n",
            "3 .- Niños APURIMAC.csv ------- ok\n",
            "4 .- Niños AMAZONAS.csv ------- ok\n",
            "5 .- Niños CAJAMARCA.csv ------- ok\n",
            "6 .- Niños ANCASH.csv ------- ok\n",
            "7 .- Niños CUSCO.csv ------- ok\n",
            "8 .- Niños CALLAO.csv ------- ok\n",
            "9 .- Niños LIMA DIRIS CENTRO.csv ------- ok\n",
            "10 .- Niños HUANUCO.csv ------- error\n",
            "11 .- Niños HUANCAVELICA.csv ------- ok\n",
            "12 .- Niños LIMA DIRIS SUR.csv ------- ok\n",
            "13 .- Niños TACNA.csv ------- ok\n",
            "14 .- Niños ICA.csv ------- ok\n",
            "15 .- Niños PIURA.csv ------- ok\n",
            "16 .- Niños PUNO.csv ------- ok\n",
            "17 .- Niños PASCO.csv ------- ok\n",
            "18 .- Niños LIMA.csv ------- ok\n",
            "19 .- Niños TUMBES.csv ------- ok\n",
            "20 .- Niños LORETO.csv ------- ok\n",
            "21 .- Niños MOQUEGUA.csv ------- ok\n",
            "22 .- Niños LIMA DIRIS ESTE.csv ------- ok\n",
            "23 .- Niños MADRE DE DIOS.csv ------- ok\n",
            "24 .- Niños SAN MARTIN.csv ------- ok\n",
            "25 .- Niños JUNIN.csv ------- ok\n",
            "26 .- Niños UCAYALI.csv ------- ok\n",
            "27 .- Niños LAMBAYEQUE.csv ------- ok\n",
            "28 .- Niños LIMA DIRIS NORTE.csv ------- ok\n",
            "29 .- Niños LA LIBERTAD.csv ------- ok\n"
          ]
        }
      ]
    },
    {
      "cell_type": "code",
      "source": [
        "combined_csv = pd.concat([f for f in combined_csv])"
      ],
      "metadata": {
        "id": "FfXTp8K8Gob4"
      },
      "execution_count": null,
      "outputs": []
    },
    {
      "cell_type": "code",
      "source": [
        "#export to csv\n",
        "combined_csv.to_csv( \"combined_HB.csv\", index=False, encoding='utf-8-sig')"
      ],
      "metadata": {
        "id": "Eyj5-qSvGob4"
      },
      "execution_count": null,
      "outputs": []
    }
  ]
}